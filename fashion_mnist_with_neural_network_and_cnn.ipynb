{
  "nbformat": 4,
  "nbformat_minor": 0,
  "metadata": {
    "colab": {
      "name": "Copy of Thong.ipynb",
      "provenance": []
    },
    "kernelspec": {
      "name": "python3",
      "display_name": "Python 3"
    },
    "language_info": {
      "name": "python"
    }
  },
  "cells": [
    {
      "cell_type": "code",
      "source": [
        "import keras\n",
        "from numpy import mean\n",
        "from numpy import std\n",
        "from matplotlib import pyplot as plt\n",
        "from sklearn.model_selection import KFold\n",
        "from keras.datasets import fashion_mnist\n",
        "from tensorflow.keras.utils import to_categorical\n",
        "from keras.models import Sequential\n",
        "from keras.layers import Conv2D\n",
        "from keras.layers import MaxPooling2D\n",
        "from keras.layers import Dense\n",
        "from keras.layers import Flatten \n",
        "from tensorflow.keras.optimizers import SGD, Adam"
      ],
      "metadata": {
        "id": "tPX6jeSyHL8l"
      },
      "execution_count": null,
      "outputs": []
    },
    {
      "cell_type": "code",
      "source": [
        "#load dataset\n",
        "(trainX, trainY), (testX, testY) = fashion_mnist.load_data()\n",
        "\n",
        "#reshape dataset to have a single channel\n",
        "trainX = trainX.reshape(trainX.shape[0], 28, 28, 1)\n",
        "testX = testX.reshape(testX.shape[0], 28, 28, 1)\n",
        "\n",
        "#one hot encode target values\n",
        "trainY = to_categorical(trainY)\n",
        "testY = to_categorical(testY)\n",
        "\n",
        "trainX, trainY, testX, testY"
      ],
      "metadata": {
        "id": "zKjlO-KpG6_-"
      },
      "execution_count": null,
      "outputs": []
    },
    {
      "cell_type": "code",
      "source": [
        "#scale pixels\n",
        "\n",
        "#convert from integers to floats\n",
        "train_norm = trainX.astype('float32')\n",
        "test_norm = testX.astype('float32')\n",
        "\n",
        "trainX = train_norm/255.0\n",
        "testX = test_norm/255.0"
      ],
      "metadata": {
        "id": "1QtSkuADHhvj"
      },
      "execution_count": null,
      "outputs": []
    },
    {
      "cell_type": "code",
      "source": [
        "#evaluate model using k-fold cross-validation\n",
        "\n",
        "scores, histories = list(), list()\n",
        "n_folds = 5\n",
        "\n",
        "#prepare cross validation\n",
        "kfold = KFold(n_folds, shuffle=True, random_state=1)\n",
        "\n",
        "#enumerate splits\n",
        "# for train_ix, test_ix in kfold.split(trainX):\n",
        "#define model\n",
        "model = Sequential()\n",
        "model.add(Flatten(input_shape=(28, 28)))\n",
        "model.add(Dense(128, activation='relu'))\n",
        "model.add(Dense(10, activation='softmax'))\n",
        "\n",
        "#compile model\n",
        "opt = SGD(learning_rate=0.01, momentum=0.9)\n",
        "# opt = Adam(lr=0.001, beta_1=0.9, beta_2=0.999)\n",
        "model.compile(optimizer=opt, loss='categorical_crossentropy', metrics=['accuracy'])\n",
        "\n",
        "#select rows for train and test\n",
        "# train_dataX, train_dataY, test_dataX, test_dataY = trainX[train_ix], trainY[train_ix], trainX[test_ix], trainY[test_ix]\n",
        "\n",
        "#fit model\n",
        "history = model.fit(trainX, trainY, epochs=10, batch_size=32, validation_data=(testX, testY), verbose=0)\n",
        "\n",
        "model.save('neural_network_model.h5')\n",
        "#evaluate model\n",
        "_, acc = model.evaluate(testX, testY, verbose = 0)\n",
        "print('> %.3f' % (acc*100.0))\n",
        "\n",
        "#append scores\n",
        "scores.append(acc)\n",
        "histories.append(history)"
      ],
      "metadata": {
        "colab": {
          "base_uri": "https://localhost:8080/"
        },
        "id": "GlJGkG9mH581",
        "outputId": "473dcd05-360b-409a-97bf-1bf0e27a9462"
      },
      "execution_count": null,
      "outputs": [
        {
          "output_type": "stream",
          "name": "stdout",
          "text": [
            "> 87.890\n"
          ]
        }
      ]
    },
    {
      "cell_type": "code",
      "source": [
        "#plot diagnostic learning curve\n",
        "\n",
        "for i in range(len(histories)):\n",
        "  #plot loss\n",
        "  plt.subplot(211)\n",
        "  plt.title('Cross entropy loss')\n",
        "  plt.plot(histories[i].history['loss'], color='blue', label='train')\n",
        "  plt.plot(histories[i].history['val_loss'], color='orange', label='test')\n",
        "\n",
        "  # plot accuracy\n",
        "  plt.subplot(212)\n",
        "  plt.title('Classification accuracy')\n",
        "  plt.plot(histories[i].history['accuracy'], color='blue', label='train')\n",
        "  plt.plot(histories[i].history['val_accuracy'], color='orange', label='test')\n",
        "plt.show()"
      ],
      "metadata": {
        "colab": {
          "base_uri": "https://localhost:8080/",
          "height": 281
        },
        "id": "6CdaBX0XI8-W",
        "outputId": "07772eaa-b028-4009-9509-bf2de3906f45"
      },
      "execution_count": null,
      "outputs": [
        {
          "output_type": "display_data",
          "data": {
            "image/png": "[encoded data removed]",
            "text/plain": [
              "<Figure size 432x288 with 2 Axes>"
            ]
          },
          "metadata": {
            "needs_background": "light"
          }
        }
      ]
    },
    {
      "cell_type": "code",
      "source": [
        "print('Accuracy: %.3f std=%.3f, n=%d' % (mean(scores)*100, std(scores)*100, len(scores)))"
      ],
      "metadata": {
        "colab": {
          "base_uri": "https://localhost:8080/"
        },
        "id": "6I0syONAJ4Ip",
        "outputId": "378dfcc8-cdd9-4cc4-dd24-5f90714b8074"
      },
      "execution_count": null,
      "outputs": [
        {
          "output_type": "stream",
          "name": "stdout",
          "text": [
            "Accuracy: 88.146 std=0.450, n=5\n"
          ]
        }
      ]
    },
    {
      "cell_type": "code",
      "source": [
        "import keras\n",
        "from numpy import mean\n",
        "from numpy import std\n",
        "from matplotlib import pyplot as plt\n",
        "from sklearn.model_selection import KFold\n",
        "from keras.datasets import fashion_mnist\n",
        "from tensorflow.keras.utils import to_categorical\n",
        "from keras.models import Sequential\n",
        "from keras.layers import Conv2D\n",
        "from keras.layers import MaxPooling2D\n",
        "from keras.layers import Dense\n",
        "from keras.layers import Flatten \n",
        "from tensorflow.keras.optimizers import SGD, Adam"
      ],
      "metadata": {
        "id": "bAGhgM5CLSMe"
      },
      "execution_count": null,
      "outputs": []
    },
    {
      "cell_type": "code",
      "source": [
        "#load train and test dataset\n",
        "\n",
        "#load dataset\n",
        "(trainX, trainY), (testX, testY) = fashion_mnist.load_data()\n",
        "\n",
        "#reshape dataset to have a single channel\n",
        "trainX = trainX.reshape(trainX.shape[0], 28, 28, 1)\n",
        "testX = testX.reshape(testX.shape[0], 28, 28, 1)\n",
        "\n",
        "#one hot encode target values\n",
        "trainY = to_categorical(trainY)\n",
        "testY = to_categorical(testY)"
      ],
      "metadata": {
        "id": "vyA5wGlwLW2q"
      },
      "execution_count": null,
      "outputs": []
    },
    {
      "cell_type": "code",
      "source": [
        "#scale pixels\n",
        "\n",
        "#convert from integers to floats\n",
        "train_norm = trainX.astype('float32')\n",
        "test_norm = testX.astype('float32')\n",
        "\n",
        "trainX = train_norm/255.0\n",
        "testX = test_norm/255.0"
      ],
      "metadata": {
        "id": "HOohUMI_LfTM"
      },
      "execution_count": null,
      "outputs": []
    },
    {
      "cell_type": "code",
      "source": [
        "#evaluate model using k-fold cross-validation\n",
        "\n",
        "scores, histories = list(), list()\n",
        "n_folds=5\n",
        "\n",
        "#prepare cross validation\n",
        "kfold = KFold(n_folds, shuffle=True, random_state=1) \n",
        "\n",
        "#enumerate splits\n",
        "for train_ix, test_ix in kfold.split(trainX):\n",
        "  #define model\n",
        "  model = Sequential()\n",
        "  #modify conv2D\n",
        "  model.add(Conv2D(32, (3, 3), activation= 'relu' , kernel_initializer= 'he_uniform' ,\n",
        "        input_shape=(28, 28, 1)))\n",
        "  model.add(MaxPooling2D((2, 2)))\n",
        "  model.add(Flatten())\n",
        "\n",
        "\n",
        "  model.add(Dense(128, activation='relu', kernel_initializer='he_uniform'))\n",
        "  model.add(Dense(10, activation='softmax'))\n",
        "\n",
        "  #compile model\n",
        "  # opt = SGD(learning_rate=0.01, momentum=0.9)\n",
        "  opt = Adam(lr=0.001, beta_1=0.9, beta_2=0.999)\n",
        "  model.compile(optimizer=opt, loss='categorical_crossentropy', metrics=['accuracy'])\n",
        "\n",
        "  #select rows for train and test\n",
        "  train_dataX, train_dataY, test_dataX, test_dataY = trainX[train_ix], trainY[train_ix], trainX[test_ix], trainY[test_ix]\n",
        "\n",
        "  #fit model\n",
        "  history = model.fit(train_dataX, train_dataY, epochs=10, batch_size=32, validation_data=(test_dataX, test_dataY), verbose=0)\n",
        "\n",
        "  model.save('neural_network_model.h5')\n",
        "  #evaluate model\n",
        "  _, acc = model.evaluate(test_dataX, test_dataY, verbose = 0)\n",
        "  print('> %.3f' % (acc*100.0))\n",
        "\n",
        "#append scores\n",
        "scores.append(acc)\n",
        "histories.append(history)"
      ],
      "metadata": {
        "colab": {
          "base_uri": "https://localhost:8080/"
        },
        "id": "rCu5hA_dL0-I",
        "outputId": "65894776-d109-4ba2-8292-1d5ee3044b0a"
      },
      "execution_count": null,
      "outputs": [
        {
          "metadata": {
            "tags": null
          },
          "name": "stderr",
          "output_type": "stream",
          "text": [
            "/usr/local/lib/python3.7/dist-packages/keras/optimizer_v2/adam.py:105: UserWarning: The `lr` argument is deprecated, use `learning_rate` instead.\n",
            "  super(Adam, self).__init__(name, **kwargs)\n"
          ]
        },
        {
          "output_type": "stream",
          "name": "stdout",
          "text": [
            "> 91.333\n",
            "> 91.517\n",
            "> 90.942\n",
            "> 91.408\n",
            "> 90.300\n"
          ]
        }
      ]
    },
    {
      "cell_type": "code",
      "source": [
        "#plot diagnostic learning curve\n",
        "\n",
        "for i in range(len(histories)):\n",
        "  #plot loss\n",
        "  plt.subplot(211)\n",
        "  plt.title('Cross entropy loss')\n",
        "  plt.plot(histories[i].history['loss'], color='blue', label='train')\n",
        "  plt.plot(histories[i].history['val_loss'], color='orange', label='test')\n",
        "\n",
        "  # plot accuracy\n",
        "  plt.subplot(212)\n",
        "  plt.title('Classification accuracy')\n",
        "  plt.plot(histories[i].history['accuracy'], color='blue', label='train')\n",
        "  plt.plot(histories[i].history['val_accuracy'], color='orange', label='test')\n",
        "plt.show()"
      ],
      "metadata": {
        "colab": {
          "base_uri": "https://localhost:8080/",
          "height": 281
        },
        "id": "6NPxSWrwNKVj",
        "outputId": "8aece1aa-4ef0-4f6f-e367-b06e0f037cae"
      },
      "execution_count": null,
      "outputs": [
        {
          "output_type": "display_data",
          "data": {
            "image/png": "[encoded data removed]",
            "text/plain": [
              "<Figure size 432x288 with 2 Axes>"
            ]
          },
          "metadata": {
            "needs_background": "light"
          }
        }
      ]
    },
    {
      "cell_type": "code",
      "source": [
        "print('Accuracy: %.3f std=%.3f, n=%d' % (mean(scores)*100, std(scores)*100, len(scores)))"
      ],
      "metadata": {
        "colab": {
          "base_uri": "https://localhost:8080/"
        },
        "id": "jSAXcRfTNNAz",
        "outputId": "8294487b-3be5-478e-92c3-167a8a1a1dfe"
      },
      "execution_count": null,
      "outputs": [
        {
          "output_type": "stream",
          "name": "stdout",
          "text": [
            "Accuracy: 91.875 std=0.000, n=1\n"
          ]
        }
      ]
    }
  ]
}